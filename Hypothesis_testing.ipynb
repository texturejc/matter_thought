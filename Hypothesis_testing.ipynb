{
 "cells": [
  {
   "cell_type": "code",
   "execution_count": null,
   "id": "4f7bfdf1",
   "metadata": {},
   "outputs": [],
   "source": [
    "!pip install pingouin"
   ]
  },
  {
   "cell_type": "code",
   "execution_count": 39,
   "id": "354e2782",
   "metadata": {},
   "outputs": [],
   "source": [
    "import pandas as pd\n",
    "import numpy as np\n",
    "import pingouin as pg\n",
    "from pingouin import ttest\n",
    "import seaborn as sns\n",
    "sns.set()"
   ]
  },
  {
   "cell_type": "markdown",
   "id": "d14a87f6",
   "metadata": {},
   "source": [
    "\n",
    "# Null Hypothesis Significance Testing (NHST)\n",
    "\n",
    "## Hypothesis 1: People with an \"O\" in their name are usually younger than 25 \n",
    "## Null hypothesis: People with an \"O\" in their name are not usually younger than 25\n",
    "\n",
    "### Statistical model: One-sample t test\n",
    "\n",
    "$$ t = \\frac{\\overline{x} - \\mu_0}{s/\\sqrt{n}}$$\n",
    "\n",
    "$\\overline{x}$ = sample mean\n",
    "\n",
    "$\\mu_0 = 25$\n",
    "\n",
    "$s$ = sample standard deviation\n",
    "\n",
    "$\\sqrt{n}$ = square root of sample size\n"
   ]
  },
  {
   "cell_type": "code",
   "execution_count": 54,
   "id": "101dbd54",
   "metadata": {},
   "outputs": [
    {
     "data": {
      "text/html": [
       "<div>\n",
       "<style scoped>\n",
       "    .dataframe tbody tr th:only-of-type {\n",
       "        vertical-align: middle;\n",
       "    }\n",
       "\n",
       "    .dataframe tbody tr th {\n",
       "        vertical-align: top;\n",
       "    }\n",
       "\n",
       "    .dataframe thead th {\n",
       "        text-align: right;\n",
       "    }\n",
       "</style>\n",
       "<table border=\"1\" class=\"dataframe\">\n",
       "  <thead>\n",
       "    <tr style=\"text-align: right;\">\n",
       "      <th></th>\n",
       "      <th>T</th>\n",
       "      <th>dof</th>\n",
       "      <th>alternative</th>\n",
       "      <th>p-val</th>\n",
       "      <th>CI95%</th>\n",
       "      <th>cohen-d</th>\n",
       "      <th>BF10</th>\n",
       "      <th>power</th>\n",
       "    </tr>\n",
       "  </thead>\n",
       "  <tbody>\n",
       "    <tr>\n",
       "      <th>T-test</th>\n",
       "      <td>-3.22047</td>\n",
       "      <td>3</td>\n",
       "      <td>two-sided</td>\n",
       "      <td>0.048567</td>\n",
       "      <td>[19.53, 24.97]</td>\n",
       "      <td>1.610235</td>\n",
       "      <td>2.429</td>\n",
       "      <td>0.586596</td>\n",
       "    </tr>\n",
       "  </tbody>\n",
       "</table>\n",
       "</div>"
      ],
      "text/plain": [
       "              T  dof alternative     p-val           CI95%   cohen-d   BF10  \\\n",
       "T-test -3.22047    3   two-sided  0.048567  [19.53, 24.97]  1.610235  2.429   \n",
       "\n",
       "           power  \n",
       "T-test  0.586596  "
      ]
     },
     "execution_count": 54,
     "metadata": {},
     "output_type": "execute_result"
    }
   ],
   "source": [
    "ttest([20, 24, 22, 23], 25)"
   ]
  },
  {
   "cell_type": "markdown",
   "id": "3f5224d9",
   "metadata": {},
   "source": [
    "# Bayesian Hypothesis Testing\n",
    "\n",
    "# $$P(A|B) = \\frac{P(B|A)P(A)}{P(B|A)+P(B|\\neg{A})}$$\n",
    "\n",
    "$P(A|B)$: The posterior probability (the probability of hypothesis A being true given data B)\n",
    "\n",
    "$P(A)$: The prior probability (the background probability of A being true without new evidence)\n",
    "\n",
    "$P(B|A)$: The likelihood (how likely is data B in the event that A is true?)\n",
    "\n",
    "$P(B)$: The marginal probability (the probability of data B across all cases). It cannot sum to more than 1.\n",
    "\n",
    "## Hypotheses\n",
    "\n",
    "$H_0$: The average age of this class is less than 20\n",
    "\n",
    "$H_1$: The average age of this class is 20\n",
    "\n",
    "$H_2$: The average age of this class is 21\n",
    "\n",
    "$H_3$: The average age of this class is 22\n",
    "\n",
    "$H_4$: The average age of this class is 23\n",
    "\n",
    "$H_5$: The average age of this class is 24\n",
    "\n",
    "$H_6$: The average age of this class is 25\n",
    "\n",
    "$H_7$: The average age of this class is greater than 25\n",
    "\n",
    "## Bayes calculation for a specific hypothesis, $H_x$:\n",
    "<br>\n",
    "\n",
    "$$P(H_x|B) = \\frac{P(B|H_x)P(H_x)}{P(B|H_0)+P(B|H_1)+P(B|H_2)+P(B|H_3)+P(B|H_4)+P(B|H_5)+P(B|H_6)+P(B|H_7)}$$\n",
    "\n",
    "\n",
    "## Assign our priors\n",
    "\n",
    "https://forms.office.com/Pages/ResponsePage.aspx?id=sA0np77paEabo0fDROUm_3eXhjWdjlZIqcqwAIeKbuVUMVI5VEMxVzVNVDNTWDRIVkFHR0hBSjdIUS4u\n",
    "\n",
    "## Collect some data\n",
    "\n",
    "Would people with a \"T\" in their name please stand up?\n",
    "\n"
   ]
  },
  {
   "cell_type": "code",
   "execution_count": null,
   "id": "23d3530f",
   "metadata": {},
   "outputs": [],
   "source": [
    "sample = ??"
   ]
  },
  {
   "cell_type": "code",
   "execution_count": 44,
   "id": "65be46de",
   "metadata": {},
   "outputs": [],
   "source": [
    "data = pd.read_excel('/The Matter of Thought_ Bayesian Hypothesis Testing(1-2).xlsx')\n",
    "real_average = data['What age are you?'].mean()\n",
    "data = data[['The probability that the average age of this class is less than 20 is:',\n",
    "       'The probability that the average age of this class is 20 is:',\n",
    "       'The probability that the average age of this class is 21 is:',\n",
    "       'The probability that the average age of this class is 22 is:',\n",
    "       'The probability that the average age of this class is 23 is:',\n",
    "       'The probability that the average age of this class is 24 is:',\n",
    "       'The probability that the average age of this class is 25 is:',\n",
    "       'The probability that the average age of this class is greater than 25 is:']]\n",
    "\n",
    "data = data.mean()\n"
   ]
  },
  {
   "cell_type": "code",
   "execution_count": 49,
   "id": "2f8ea986",
   "metadata": {},
   "outputs": [],
   "source": [
    "prior = 0.5\n",
    "likelihood = 0.4\n",
    "marginal = {'H0': 1, 'H1': 1,'H2': 1, 'H3': 1, 'H4': 1,'H5': 1,'H6': 1,'H7': 1}\n",
    "marginal = sum([i for i in marginal.values()])\n",
    "\n"
   ]
  },
  {
   "cell_type": "code",
   "execution_count": 52,
   "id": "648c829e",
   "metadata": {},
   "outputs": [],
   "source": [
    "def bayes(prior, marginal, likelihood):\n",
    "    p = (likelihood*prior)/marginal\n",
    "    return p"
   ]
  },
  {
   "cell_type": "code",
   "execution_count": 46,
   "id": "e73d9149",
   "metadata": {},
   "outputs": [
    {
     "data": {
      "text/plain": [
       "The probability that the average age of this class is less than 20 is:       0.55\n",
       "The probability that the average age of this class is 20 is:                 0.10\n",
       "The probability that the average age of this class is 21 is:                 0.10\n",
       "The probability that the average age of this class is 22 is:                 0.10\n",
       "The probability that the average age of this class is 23 is:                 0.10\n",
       "The probability that the average age of this class is 24 is:                 0.10\n",
       "The probability that the average age of this class is 25 is:                 0.10\n",
       "The probability that the average age of this class is greater than 25 is:    0.30\n",
       "dtype: float64"
      ]
     },
     "execution_count": 46,
     "metadata": {},
     "output_type": "execute_result"
    }
   ],
   "source": [
    "data"
   ]
  },
  {
   "cell_type": "code",
   "execution_count": 47,
   "id": "871f2b08",
   "metadata": {},
   "outputs": [
    {
     "data": {
      "text/plain": [
       "0.03"
      ]
     },
     "execution_count": 47,
     "metadata": {},
     "output_type": "execute_result"
    }
   ],
   "source": [
    "bayes(0.3, 0.1, 0.01)"
   ]
  },
  {
   "cell_type": "code",
   "execution_count": null,
   "id": "0a6c4196",
   "metadata": {},
   "outputs": [],
   "source": []
  }
 ],
 "metadata": {
  "kernelspec": {
   "display_name": "Python 3 (ipykernel)",
   "language": "python",
   "name": "python3"
  },
  "language_info": {
   "codemirror_mode": {
    "name": "ipython",
    "version": 3
   },
   "file_extension": ".py",
   "mimetype": "text/x-python",
   "name": "python",
   "nbconvert_exporter": "python",
   "pygments_lexer": "ipython3",
   "version": "3.9.7"
  }
 },
 "nbformat": 4,
 "nbformat_minor": 5
}
