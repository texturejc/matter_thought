{
 "cells": [
  {
   "cell_type": "code",
   "execution_count": 21,
   "id": "57205125",
   "metadata": {},
   "outputs": [
    {
     "name": "stderr",
     "output_type": "stream",
     "text": [
      "/Users/james/opt/anaconda3/lib/python3.9/site-packages/outdated/utils.py:14: OutdatedPackageWarning: The package pingouin is out of date. Your version is 0.5.0, the latest is 0.5.3.\n",
      "Set the environment variable OUTDATED_IGNORE=1 to disable these warnings.\n",
      "  return warn(\n",
      "/Users/james/opt/anaconda3/lib/python3.9/site-packages/outdated/utils.py:14: OutdatedPackageWarning: The package outdated is out of date. Your version is 0.2.1, the latest is 0.2.2.\n",
      "Set the environment variable OUTDATED_IGNORE=1 to disable these warnings.\n",
      "  return warn(\n"
     ]
    }
   ],
   "source": [
    "import pandas as pd\n",
    "import numpy as np\n",
    "import pingouin as pg\n",
    "from pingouin import ttest\n",
    "import seaborn as sns\n",
    "sns.set()"
   ]
  },
  {
   "cell_type": "code",
   "execution_count": null,
   "id": "aa77a2bf",
   "metadata": {},
   "outputs": [],
   "source": []
  },
  {
   "cell_type": "markdown",
   "id": "e54bbed5",
   "metadata": {},
   "source": [
    "# Bayes' Formula as it applies to hypothesis testing\n",
    "\n",
    "# $$P(A|B) = \\frac{P(B|A)P(A)}{P(B|A)P(A)+P(B|\\neg{A})P(\\neg{A})}$$\n",
    "\n",
    "$P(A|B)$: The posterior probability (the probability of hypothesis $A$ being true given data $B$)\n",
    "\n",
    "$P(A)$: The prior probability (the background probability of $A$ being true without new evidence)\n",
    "\n",
    "$P(\\neg{A})$: The prior probability (the background probability of $\\neg{A}$ being true without new evidence, where $\\neg{A}$ means 'not-$A$')\n",
    "\n",
    "$P(B|A)$: The likelihood (how likely is data $B$ in the event that $A$ is true?)\n",
    "\n",
    "$P(B)$: The marginal probability (the probability of data $B$ across all cases). It cannot sum to more than 1.\n",
    "\n",
    "# Let's imagine that we want to estimate the average age of the class based on a sample of the ages of the people in the class. What do we do?\n",
    "\n",
    "## 1. The first step is to identify a set of hypotheses. Let's keep it simple and suggest two:\n",
    "\n",
    "<br>\n",
    "$H_0$: The average age of this class is less than 23\n",
    "\n",
    "$H_1$: The average age of this class is greater than or equal to 23\n",
    "\n",
    "## 2. Next, we offer some priors over our hypotheses. These are the estimated probabilities of each hypothesis being true based on background knowledge. When we know that our hypotheses exhaust all possibilities, these should sum to one––but this is unusual. Most of the time, our hypotheses are not mutually exclusive, some are nested within each other, and sometimes we just don't know all the possible hypotheses. In this case, we've covered every possibility, so our priors should sum to one. We generated a set of priors in class by getting everyone to assign a probability to each hypothesis and averaging and normalising the results. (Normalising ensures that the probabilities sum to one.) According to the collective intelligence of the class, there is a 0.769 probability that the average age is less than 23, and a 0.23 probability that it's greater than or equal to 23.\n",
    "\n",
    "$P(H_0) = 0.769$\n",
    "\n",
    "$P(H_1) = 0.23$\n",
    "\n",
    "## 3. According to our priors, the class thinks $H_0$ is the most likely hypothesis––i.e the average age of the class is less than 23. To calculate how plausible this hypothesis is, let's get some data. We took a random sample of six people and got a mean:\n",
    "\n",
    "$sample = (23, 24, 20, 22, 21, 29)$\n",
    "<br>\n",
    "$mean = 23$\n",
    "\n",
    "## 4. We use Bayes' formula to calculate how likely $H_0$ is, given this update from our data. In practice, this means first calculating the marginal probability of our evidence under the assumption that each hypothesis is true––i.e. $P(B|H_x)$. We're essentially asking, \"If we assume that the average age of the class is as predicted by $H_x$, how likely is it that our sample would have an average age of 23 or greater?\" This is a difficult calculation, so here we assume the values below for $H_0$ and $H_1$. (The marginal probabilities sum to one because there are only two possible cases for the average age of the class.)\n",
    "<br>\n",
    "$$P(H_x|B) = \\frac{P(B|H_x)P(H_x)}{P(B|H_0)P(H_0)+P(B|H_1)P(H_1)}$$\n",
    "\n",
    "$P(age≥23|H_0) = 0.3$\n",
    "\n",
    "$P(age≥23|H_1) = 0.7$\n",
    "<br>\n",
    "### We can can now calculate how likely the class's guess that the average age is less than 23 given the data that we've obtained, our priors, and the marginal probabilities:\n",
    "\n",
    "$$P(H_0|age≥23) = \\frac{(0.3)(0.769)}{(0.3)(0.769)+(0.7)(0.23)}=0.588$$\n",
    "\n",
    "### We can perform a similar calucation for $H_1$, the hypothesis that the average age is greater than or equal to 23:\n",
    "\n",
    "$$P(H_1|age≥23) = \\frac{(0.7)(0.23)}{(0.7)(0.23)+(0.3)(0.769)}=0.411$$\n",
    "\n",
    "### Getting the ratio of probabilities (the odds) shows that $H_0$ is 1.4 times more likely than $H_1$:\n",
    "\n",
    "$$\\frac{0.588}{0.411}=1.4$$\n",
    "\n",
    "## 5. What should we conclude from this? This result invites us to reject the hypothesis that the average age of the class is greater than or equal to 23, <i>despite</i> the fact that the mean of our sample is actually 23. The reason for this is we assigned a very large prior  $P(H_0) = 0.769$ to $H_0$, and it will take a lot of evidence to overcome this confidence.  As it happens, the actual average age of the class is 21, so our Bayesian analysis gives us the right answer.\n"
   ]
  }
 ],
 "metadata": {
  "kernelspec": {
   "display_name": "Python 3 (ipykernel)",
   "language": "python",
   "name": "python3"
  },
  "language_info": {
   "codemirror_mode": {
    "name": "ipython",
    "version": 3
   },
   "file_extension": ".py",
   "mimetype": "text/x-python",
   "name": "python",
   "nbconvert_exporter": "python",
   "pygments_lexer": "ipython3",
   "version": "3.9.7"
  }
 },
 "nbformat": 4,
 "nbformat_minor": 5
}
